{
  "nbformat": 4,
  "nbformat_minor": 0,
  "metadata": {
    "colab": {
      "provenance": [],
      "gpuType": "T4",
      "mount_file_id": "1duMPyR_KrsdVZCZRtHooNjF763NdfvYv",
      "authorship_tag": "ABX9TyN58Ubd3Re4OFZfJvCspu9D",
      "include_colab_link": true
    },
    "kernelspec": {
      "name": "python3",
      "display_name": "Python 3"
    },
    "language_info": {
      "name": "python"
    },
    "accelerator": "GPU"
  },
  "cells": [
    {
      "cell_type": "markdown",
      "metadata": {
        "id": "view-in-github",
        "colab_type": "text"
      },
      "source": [
        "<a href=\"https://colab.research.google.com/github/sammylina/alx_final_portfolio/blob/master/cnn_amharic.ipynb\" target=\"_parent\"><img src=\"https://colab.research.google.com/assets/colab-badge.svg\" alt=\"Open In Colab\"/></a>"
      ]
    },
    {
      "cell_type": "code",
      "source": [
        "from google.colab import drive\n",
        "drive.mount('/content/drived')"
      ],
      "metadata": {
        "colab": {
          "base_uri": "https://localhost:8080/"
        },
        "id": "WaIPB65Z0_1j",
        "outputId": "2b32e9dd-cf93-4f69-cccd-4881e8000f80"
      },
      "execution_count": 1,
      "outputs": [
        {
          "output_type": "stream",
          "name": "stdout",
          "text": [
            "Mounted at /content/drived\n"
          ]
        }
      ]
    },
    {
      "cell_type": "code",
      "source": [
        "import tarfile\n",
        "\n",
        "file_path = '/content/drived/MyDrive/amharic_dataset_full.tar.gz'\n",
        "dest_path = '/content/amharic_dataset_full'\n",
        "\n",
        "with tarfile.open(file_path, 'r:gz') as f:\n",
        "    f.extractall(dest_path)"
      ],
      "metadata": {
        "id": "LA52ZMSc5eSw"
      },
      "execution_count": 2,
      "outputs": []
    },
    {
      "cell_type": "code",
      "source": [
        "# Create Amharic dataset class\n",
        "\n",
        "from torch.utils.data import Dataset\n",
        "from PIL import Image\n",
        "import os\n",
        "import torch\n",
        "\n",
        "class AmharicDataset(Dataset):\n",
        "    def __init__(self, img_folder, transform=None, train=True, test_split=0.2):\n",
        "        # Load image\n",
        "        self.img_folder = img_folder\n",
        "        self.transform = transform\n",
        "        self.file_list = os.listdir(img_folder)\n",
        "\n",
        "        self.train = train\n",
        "        self.test_split = test_split\n",
        "        self.split_idx = int(len(self.file_list) * (1 - self.test_split))\n",
        "\n",
        "        # Create labels from file name\n",
        "        self.labels = [int(f_name[:3])for f_name in self.file_list]\n",
        "\n",
        "\n",
        "\n",
        "    def __len__(self):\n",
        "        if self.train:\n",
        "            return self.split_idx\n",
        "        return len(self.file_list) - self.split_idx\n",
        "\n",
        "    def __getitem__(self, idx):\n",
        "        if self.train:\n",
        "            file_name = self.file_list[idx]\n",
        "            label = self.labels[idx]\n",
        "        else:\n",
        "            file_name = self.file_list[idx + self.split_idx]\n",
        "            label = self.labels[idx + self.split_idx]\n",
        "\n",
        "        file_path = os.path.join(self.img_folder, file_name)\n",
        "        sample = Image.open(file_path)\n",
        "\n",
        "\n",
        "        if (self.transform):\n",
        "            sample = self.transform(sample)\n",
        "\n",
        "        return sample, label"
      ],
      "metadata": {
        "id": "czIbQGPf7MiY"
      },
      "execution_count": 3,
      "outputs": []
    },
    {
      "cell_type": "code",
      "source": [
        "from torchvision import transforms\n",
        "from torch.utils.data import DataLoader\n",
        "from torch.utils.data.sampler import SubsetRandomSampler\n",
        "import numpy as np\n",
        "import torch\n",
        "import torch.nn as nn"
      ],
      "metadata": {
        "id": "GEyFGzR1gQuF"
      },
      "execution_count": 4,
      "outputs": []
    },
    {
      "cell_type": "code",
      "source": [
        "# Load data to torch loader\n",
        "\n",
        "\n",
        "transform = transforms.Compose([\n",
        "    transforms.ToTensor(),\n",
        "    transforms.Normalize((0.5, ), (0.5, ))\n",
        "])\n",
        "\n",
        "train_data = AmharicDataset('/content/amharic_dataset_full/amharic_dataset_full', transform=transform, train=True)\n",
        "test_data = AmharicDataset('/content/amharic_dataset_full/amharic_dataset_full', transform=transform, train=False)\n",
        "\n",
        "valid_size = 0.15\n",
        "\n",
        "num_train = len(train_data)\n",
        "indices = list(range(num_train))\n",
        "np.random.shuffle(indices)\n",
        "split = int(np.floor(valid_size * num_train))\n",
        "train_idx, valid_idx = indices[split:], indices[:split]\n",
        "\n",
        "train_sampler = SubsetRandomSampler(train_idx)\n",
        "valid_sampler = SubsetRandomSampler(valid_idx)\n",
        "\n",
        "train_loader = DataLoader(train_data, sampler=train_sampler, batch_size =16)\n",
        "valid_loader = DataLoader(train_data, sampler=valid_sampler, batch_size=16)\n",
        "test_loader = DataLoader(test_data, batch_size=16)\n",
        "\n"
      ],
      "metadata": {
        "id": "mX2b0klo6IFI"
      },
      "execution_count": 5,
      "outputs": []
    },
    {
      "cell_type": "code",
      "source": [
        "# visualize image data and label\n",
        "import matplotlib.pyplot as plt\n",
        "import numpy as np\n",
        "\n",
        "data, label = next(iter(valid_loader))\n",
        "\n",
        "img = data[0]\n",
        "lab = label[0]\n",
        "print(img.shape)\n",
        "\n",
        "def label_to_char(label):\n",
        "\n",
        "    start = ord('ሀ')\n",
        "    end = ord('ፐ')\n",
        "\n",
        "    bad_chars = [4680, 4688, 4696, 4744, 4784, 4800, 4856, 4880, 4888]\n",
        "    m = [char_code for char_code in range(start, end + 1, 8) if char_code not in bad_chars]\n",
        "\n",
        "    row, col = None, None\n",
        "    if label % 7 == 0:\n",
        "        col = 6\n",
        "        row = int(label / 7) - 1\n",
        "    else:\n",
        "        col = (label % 7) - 1\n",
        "        row = label // 7\n",
        "\n",
        "    return m[row] + col\n",
        "\n",
        "img_np = img.squeeze().numpy()\n",
        "uc = label_to_char(lab.item())\n",
        "print(f'Label: {lab.item()}')\n",
        "print(f'Char: {chr(uc)}')\n",
        "print(f'Unicode: {uc}')\n",
        "plt.imshow(img_np, cmap='gray')"
      ],
      "metadata": {
        "colab": {
          "base_uri": "https://localhost:8080/",
          "height": 522
        },
        "id": "cL57K5-XDT50",
        "outputId": "72c23f5b-314c-4a09-e751-f1258baa3c07"
      },
      "execution_count": 7,
      "outputs": [
        {
          "output_type": "stream",
          "name": "stdout",
          "text": [
            "torch.Size([1, 28, 28])\n",
            "Label: 78\n",
            "Char: ተ\n",
            "Unicode: 4720\n"
          ]
        },
        {
          "output_type": "execute_result",
          "data": {
            "text/plain": [
              "<matplotlib.image.AxesImage at 0x7ca0149a0370>"
            ]
          },
          "metadata": {},
          "execution_count": 7
        },
        {
          "output_type": "display_data",
          "data": {
            "text/plain": [
              "<Figure size 640x480 with 1 Axes>"
            ],
            "image/png": "[encoded data removed]"
          },
          "metadata": {}
        }
      ]
    },
    {
      "cell_type": "code",
      "source": [
        "train_on_gpu = torch.cuda.is_available()\n",
        "\n",
        "if train_on_gpu:\n",
        "    print('Training on GPU')\n",
        "else:\n",
        "    print('GPU not available')"
      ],
      "metadata": {
        "colab": {
          "base_uri": "https://localhost:8080/"
        },
        "id": "JKyAKP3dXj0K",
        "outputId": "747ff195-afef-4854-dc30-57f116f4bca9"
      },
      "execution_count": 8,
      "outputs": [
        {
          "output_type": "stream",
          "name": "stdout",
          "text": [
            "Training on GPU\n"
          ]
        }
      ]
    },
    {
      "cell_type": "code",
      "source": [
        "import torch.nn as nn\n",
        "import torch.nn.functional as F\n",
        "import torch\n",
        "\n",
        "class LeNet(nn.Module):\n",
        "    def __init__(self):\n",
        "        super(LeNet, self).__init__()\n",
        "\n",
        "        self.conv1 = nn.Conv2d(1, 16, 3, padding=1)\n",
        "        self.conv2 = nn.Conv2d(16, 32, 3, padding=1)\n",
        "        self.conv3 = nn.Conv2d(32, 64, 3, padding=1)\n",
        "\n",
        "        self.pool = nn.MaxPool2d(2, 2)\n",
        "\n",
        "        self.fc1 = nn.Linear(576, 256)\n",
        "        self.fc2 = nn.Linear(256, 239)\n",
        "\n",
        "        self.dropout = nn.Dropout(0.35)\n",
        "\n",
        "    def forward(self, x):\n",
        "        x = self.pool(F.relu(self.conv1(x))) # we have (14 x 14 x 16)\n",
        "        x = self.pool(F.relu(self.conv2(x))) # we have (7 x 7 x 32)\n",
        "        x = self.pool(F.relu(self.conv3(x))) # we have (3 x 3 x 64)\n",
        "\n",
        "        x = x.view(-1, 3 * 3 * 64)\n",
        "\n",
        "        x = self.dropout(x)\n",
        "        x = F.relu(self.fc1(x))\n",
        "        x = self.dropout(x)\n",
        "\n",
        "        return self.fc2(x)\n",
        "\n",
        "\n",
        "l_model = LeNet()\n",
        "print(l_model)\n",
        "\n",
        "if train_on_gpu:\n",
        "    l_model.cuda()\n",
        "\n"
      ],
      "metadata": {
        "colab": {
          "base_uri": "https://localhost:8080/"
        },
        "id": "V8hWSwcrQySR",
        "outputId": "fa89aa9a-b169-488f-a53f-86f6e9adf369"
      },
      "execution_count": 9,
      "outputs": [
        {
          "output_type": "stream",
          "name": "stdout",
          "text": [
            "LeNet(\n",
            "  (conv1): Conv2d(1, 16, kernel_size=(3, 3), stride=(1, 1), padding=(1, 1))\n",
            "  (conv2): Conv2d(16, 32, kernel_size=(3, 3), stride=(1, 1), padding=(1, 1))\n",
            "  (conv3): Conv2d(32, 64, kernel_size=(3, 3), stride=(1, 1), padding=(1, 1))\n",
            "  (pool): MaxPool2d(kernel_size=2, stride=2, padding=0, dilation=1, ceil_mode=False)\n",
            "  (fc1): Linear(in_features=576, out_features=256, bias=True)\n",
            "  (fc2): Linear(in_features=256, out_features=239, bias=True)\n",
            "  (dropout): Dropout(p=0.35, inplace=False)\n",
            ")\n"
          ]
        }
      ]
    },
    {
      "cell_type": "code",
      "source": [
        "import torch.optim as optim\n",
        "\n",
        "epoch = 35\n",
        "lr = 0.001\n",
        "valid_loss_min = np.Inf\n",
        "\n",
        "model = LeNet()\n",
        "model.cuda()\n",
        "\n",
        "criterion = nn.CrossEntropyLoss()\n",
        "optimizer = optim.Adam(model.parameters(), lr=lr)\n",
        "\n",
        "\n",
        "for ep in range(1, epoch + 1):\n",
        "\n",
        "    train_loss = 0.0\n",
        "    valid_loss = 0.0\n",
        "\n",
        "    model.train()\n",
        "    for data, label in train_loader:\n",
        "\n",
        "        if train_on_gpu:\n",
        "            data, label = data.cuda(), label.cuda()\n",
        "\n",
        "        optimizer.zero_grad()\n",
        "\n",
        "        output = model(data)\n",
        "        loss = criterion(output, label)\n",
        "\n",
        "        loss.backward()\n",
        "        optimizer.step()\n",
        "\n",
        "        train_loss += loss.item() * data.size(0)\n",
        "\n",
        "\n",
        "    model.eval()\n",
        "    acc = 0.0\n",
        "    for v_data, v_label in valid_loader:\n",
        "        if train_on_gpu:\n",
        "            v_data, v_label = v_data.cuda(), v_label.cuda()\n",
        "\n",
        "        ouputs = model(v_data)\n",
        "\n",
        "        loss = criterion(ouputs, v_label)\n",
        "\n",
        "        valid_loss += loss.item() * v_data.size(0)\n",
        "\n",
        "        _, pred = torch.max(ouputs, 1)\n",
        "        acc += (pred == v_label).sum().item()\n",
        "\n",
        "    train_loss = train_loss / len(train_loader.sampler)\n",
        "    valid_loss = valid_loss / len(valid_loader.sampler)\n",
        "\n",
        "\n",
        "    print(f'({ep}) train_loss: {train_loss:.3f} valid_loss: {valid_loss:.3f} acc: {acc / len(valid_loader.sampler):.2f}%')\n",
        "\n",
        "    if valid_loss < valid_loss_min:\n",
        "        print(f'Validation loss decreased from ===> {valid_loss_min:.3f} - {valid_loss:.3f}, saving model...')\n",
        "        torch.save(model.state_dict(), f'best_model.pth')\n",
        "        valid_loss_min = valid_loss\n"
      ],
      "metadata": {
        "colab": {
          "base_uri": "https://localhost:8080/"
        },
        "id": "FCejJYaDqEjX",
        "outputId": "7bd52892-d35c-4092-b0ae-7e3dad560cd5"
      },
      "execution_count": 10,
      "outputs": [
        {
          "output_type": "stream",
          "name": "stdout",
          "text": [
            "(1) train_loss: 2.921 valid_loss: 1.062 acc: 0.69%\n",
            "Validation loss decreased from ===> inf - 1.062, saving model...\n",
            "(2) train_loss: 1.292 valid_loss: 0.703 acc: 0.79%\n",
            "Validation loss decreased from ===> 1.062 - 0.703, saving model...\n",
            "(3) train_loss: 0.997 valid_loss: 0.574 acc: 0.82%\n",
            "Validation loss decreased from ===> 0.703 - 0.574, saving model...\n",
            "(4) train_loss: 0.860 valid_loss: 0.531 acc: 0.83%\n",
            "Validation loss decreased from ===> 0.574 - 0.531, saving model...\n",
            "(5) train_loss: 0.763 valid_loss: 0.477 acc: 0.85%\n",
            "Validation loss decreased from ===> 0.531 - 0.477, saving model...\n",
            "(6) train_loss: 0.706 valid_loss: 0.461 acc: 0.85%\n",
            "Validation loss decreased from ===> 0.477 - 0.461, saving model...\n",
            "(7) train_loss: 0.658 valid_loss: 0.446 acc: 0.86%\n",
            "Validation loss decreased from ===> 0.461 - 0.446, saving model...\n",
            "(8) train_loss: 0.621 valid_loss: 0.431 acc: 0.86%\n",
            "Validation loss decreased from ===> 0.446 - 0.431, saving model...\n",
            "(9) train_loss: 0.601 valid_loss: 0.421 acc: 0.87%\n",
            "Validation loss decreased from ===> 0.431 - 0.421, saving model...\n",
            "(10) train_loss: 0.564 valid_loss: 0.410 acc: 0.87%\n",
            "Validation loss decreased from ===> 0.421 - 0.410, saving model...\n",
            "(11) train_loss: 0.544 valid_loss: 0.400 acc: 0.87%\n",
            "Validation loss decreased from ===> 0.410 - 0.400, saving model...\n",
            "(12) train_loss: 0.520 valid_loss: 0.397 acc: 0.88%\n",
            "Validation loss decreased from ===> 0.400 - 0.397, saving model...\n",
            "(13) train_loss: 0.501 valid_loss: 0.383 acc: 0.88%\n",
            "Validation loss decreased from ===> 0.397 - 0.383, saving model...\n",
            "(14) train_loss: 0.489 valid_loss: 0.396 acc: 0.87%\n",
            "(15) train_loss: 0.470 valid_loss: 0.373 acc: 0.88%\n",
            "Validation loss decreased from ===> 0.383 - 0.373, saving model...\n",
            "(16) train_loss: 0.456 valid_loss: 0.388 acc: 0.88%\n",
            "(17) train_loss: 0.447 valid_loss: 0.376 acc: 0.88%\n",
            "(18) train_loss: 0.432 valid_loss: 0.360 acc: 0.89%\n",
            "Validation loss decreased from ===> 0.373 - 0.360, saving model...\n",
            "(19) train_loss: 0.422 valid_loss: 0.358 acc: 0.88%\n",
            "Validation loss decreased from ===> 0.360 - 0.358, saving model...\n",
            "(20) train_loss: 0.412 valid_loss: 0.358 acc: 0.88%\n",
            "(21) train_loss: 0.408 valid_loss: 0.370 acc: 0.89%\n",
            "(22) train_loss: 0.404 valid_loss: 0.392 acc: 0.88%\n",
            "(23) train_loss: 0.390 valid_loss: 0.364 acc: 0.88%\n",
            "(24) train_loss: 0.390 valid_loss: 0.367 acc: 0.88%\n",
            "(25) train_loss: 0.381 valid_loss: 0.360 acc: 0.89%\n",
            "(26) train_loss: 0.380 valid_loss: 0.364 acc: 0.89%\n",
            "(27) train_loss: 0.365 valid_loss: 0.373 acc: 0.88%\n",
            "(28) train_loss: 0.358 valid_loss: 0.384 acc: 0.88%\n",
            "(29) train_loss: 0.354 valid_loss: 0.384 acc: 0.88%\n",
            "(30) train_loss: 0.359 valid_loss: 0.364 acc: 0.88%\n",
            "(31) train_loss: 0.346 valid_loss: 0.373 acc: 0.88%\n",
            "(32) train_loss: 0.340 valid_loss: 0.376 acc: 0.88%\n",
            "(33) train_loss: 0.346 valid_loss: 0.383 acc: 0.88%\n",
            "(34) train_loss: 0.333 valid_loss: 0.378 acc: 0.88%\n",
            "(35) train_loss: 0.331 valid_loss: 0.373 acc: 0.88%\n"
          ]
        }
      ]
    },
    {
      "cell_type": "code",
      "source": [
        "device = 'cuda' if torch.cuda.is_available() else 'cpu'\n",
        "checkpoint = '/content/best_model.pth'\n",
        "\n",
        "model = LeNet()\n",
        "\n",
        "model.to(device)\n",
        "model.load_state_dict(torch.load(checkpoint, map_location=torch.device(device)))\n"
      ],
      "metadata": {
        "colab": {
          "base_uri": "https://localhost:8080/"
        },
        "id": "nb0lUrBwCPJj",
        "outputId": "fb7da723-5c02-4382-cece-613eca852ddb"
      },
      "execution_count": 13,
      "outputs": [
        {
          "output_type": "execute_result",
          "data": {
            "text/plain": [
              "<All keys matched successfully>"
            ]
          },
          "metadata": {},
          "execution_count": 13
        }
      ]
    },
    {
      "cell_type": "code",
      "source": [
        "test_loss = 0.0\n",
        "correct_pred = 0\n",
        "total_sample = 0\n",
        "model.eval()\n",
        "for data, target in test_loader:\n",
        "    if train_on_gpu:\n",
        "        data, target = data.cuda(), target.cuda()\n",
        "\n",
        "    outputs = model(data)\n",
        "    loss = criterion(outputs, target)\n",
        "\n",
        "    test_loss += loss.item() * data.size(0)\n",
        "\n",
        "    _, pred = torch.max(outputs, 1)\n",
        "    total_sample += target.size(0)\n",
        "    correct_pred += (pred == target).sum().item()\n",
        "\n",
        "# average test loss\n",
        "test_loss = test_loss/total_sample\n",
        "accuracy = correct_pred / total_sample\n",
        "print(f'test loss {test_loss:.3f}  acc... {accuracy:.3f}')\n",
        "\n"
      ],
      "metadata": {
        "colab": {
          "base_uri": "https://localhost:8080/"
        },
        "id": "iKyYNkwJekQj",
        "outputId": "9f031392-f602-43d9-fb8e-d9786a291012"
      },
      "execution_count": 14,
      "outputs": [
        {
          "output_type": "stream",
          "name": "stdout",
          "text": [
            "test loss 0.393  acc... 0.870\n"
          ]
        }
      ]
    },
    {
      "cell_type": "code",
      "source": [
        "images, labels = next(iter(train_loader))\n",
        "images.numpy()\n",
        "\n",
        "import warnings\n",
        "warnings.filterwarnings(\"ignore\", category=UserWarning, message=\"Glyph\")\n",
        "\n",
        "def imshow(img):\n",
        "    img = img / 2 + 0.5  # unnormalize\n",
        "    plt.imshow(np.transpose(img, (1, 2, 0)))\n",
        "\n",
        "if train_on_gpu:\n",
        "    images = images.cuda()\n",
        "\n",
        "output = model(images)\n",
        "_, pred = torch.max(output, 1)\n",
        "\n",
        "\n",
        "preds = np.squeeze(pred.numpy()) if not train_on_gpu else np.squeeze(pred.cpu().numpy())\n",
        "\n",
        "import matplotlib.pyplot as plt\n",
        "\n",
        "classes = {l: label_to_char(l) for l in range(1, 239)}\n",
        "\n",
        "fig = plt.figure(figsize=(25, 4))\n",
        "for idx in np.arange(16):\n",
        "    ax = fig.add_subplot(2,18, idx+1, xticks=[], yticks=[])\n",
        "    imshow(images[idx] if not train_on_gpu else images[idx].cpu())\n",
        "    p, a = classes[preds[idx]], classes[labels[idx].item()]\n",
        "    if preds[idx] != labels[idx].item():\n",
        "        print(f'predicted: {chr(p)}, actual {chr(a)}')\n",
        "    ax.set_title(f\"{p} ({a})\",\n",
        "                 color=(\"green\" if preds[idx]==labels[idx].item() else \"red\"))\n"
      ],
      "metadata": {
        "colab": {
          "base_uri": "https://localhost:8080/",
          "height": 100
        },
        "id": "zXVSpzpq7Knh",
        "outputId": "cbdd77c0-81b6-4c71-bf39-fe6730f62e47"
      },
      "execution_count": 15,
      "outputs": [
        {
          "output_type": "display_data",
          "data": {
            "text/plain": [
              "<Figure size 2500x400 with 16 Axes>"
            ],
            "image/png": "[encoded data removed]"
          },
          "metadata": {}
        }
      ]
    },
    {
      "cell_type": "code",
      "source": [],
      "metadata": {
        "id": "LMGDVMGslqjl"
      },
      "execution_count": null,
      "outputs": []
    }
  ]
}